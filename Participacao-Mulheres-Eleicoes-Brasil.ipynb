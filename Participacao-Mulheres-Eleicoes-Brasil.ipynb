{
 "cells": [
  {
   "cell_type": "code",
   "execution_count": 1,
   "metadata": {},
   "outputs": [],
   "source": [
    "import pandas as pd\n",
    "import matplotlib.pyplot as plt\n",
    "low_memory = False"
   ]
  },
  {
   "cell_type": "code",
   "execution_count": 2,
   "metadata": {},
   "outputs": [],
   "source": [
    "# declaraçãos das variáveis\n",
    "df_2014 = pd.read_csv(r'Dados\\2014\\consulta_cand_2014_BRASIL.csv', delimiter= ';' , encoding='iso-8859-1', usecols=['CD_GENERO'])\n",
    "df_2018 = pd.read_csv(r'Dados\\2018\\consulta_cand_2018_BRASIL.csv', delimiter= ';' , encoding='iso-8859-1', usecols=['CD_GENERO'])\n",
    "\n",
    "ufs2 = ['AC', 'AL', 'AM', 'AP', 'BA', 'BRASIL', 'CE', 'ES', 'GO', 'MA', 'MG', 'MS', 'MT', 'PA', 'PB', 'PE', 'PI', 'PR', 'RJ', 'RN', 'RO', 'RR', 'RS', 'SC', 'SE', 'SP', 'TO']\n",
    "for uf2 in ufs2:\n",
    "    df_2016 = pd.read_csv(r'Dados\\2016\\consulta_cand_2016_'+str(uf2)+'.csv', delimiter= ';' , encoding='iso-8859-1', usecols=['CD_GENERO'])\n",
    "    df_2020 = pd.read_csv(r'Dados\\2020\\consulta_cand_2020_'+str(uf2)+'.csv', delimiter= ';' , encoding='iso-8859-1', usecols=['CD_GENERO'])"
   ]
  },
  {
   "cell_type": "code",
   "execution_count": 3,
   "metadata": {},
   "outputs": [],
   "source": [
    "#Declarando váriaveis para produzir o gráfico\n",
    "def_2014 = (df_2014.query(\"CD_GENERO == 4\")[\"CD_GENERO\"].count()) # Feminino\n",
    "def_2014_2 = (df_2014.query(\"CD_GENERO == 2\")[\"CD_GENERO\"].count()) # Masculino\n",
    "def_2014_total = (def_2014) + (def_2014_2)\n",
    "def_2014_participacao = round((def_2014/(def_2014 + def_2014_2) * 100), 2)\n",
    "def_2016 = (df_2016.query(\"CD_GENERO == '4'\")[\"CD_GENERO\"].count()) # Feminino\n",
    "def_2016_2 = (df_2016.query(\"CD_GENERO == '2'\")[\"CD_GENERO\"].count()) # Masculino\n",
    "def_2016_total = (def_2016 + def_2016_2)\n",
    "def_2016_participacao = round((def_2016/(def_2016 + def_2016_2) * 100), 2)\n",
    "def_2018 = (df_2018.query(\"CD_GENERO == 4\")[\"CD_GENERO\"].count()) # Feminino\n",
    "def_2018_2 = (df_2018.query(\"CD_GENERO == 2\")[\"CD_GENERO\"].count()) # Masculino\n",
    "def_2018_total = (def_2018 + def_2018_2)\n",
    "def_2018_participacao = round((def_2018/(def_2018 + def_2018_2) * 100), 2)\n",
    "def_2020 = (df_2020.query(\"CD_GENERO == '4'\")[\"CD_GENERO\"].count()) # Feminino\n",
    "def_2020_2 = (df_2020.query(\"CD_GENERO == '2'\")[\"CD_GENERO\"].count()) # Masculino\n",
    "def_2020_total = (def_2020 + def_2020_2)\n",
    "def_2020_participacao =  round((def_2020/(def_2020 + def_2020_2) * 100), 2)"
   ]
  },
  {
   "cell_type": "code",
   "execution_count": 4,
   "metadata": {},
   "outputs": [
    {
     "name": "stdout",
     "output_type": "stream",
     "text": [
      "O número de candidatas em 2014 foi de 8139.\n",
      "O número de candidatos em 2014 foi de 18125.\n",
      "O percentual de candidatas em 2014 foi de 30.99 %.\n",
      "O número total de candidatas em 2014 foi de 26264.\n",
      "O número de candidatas em 2016 foi de 2435.\n",
      "O número de candidatos em 2016 foi de 5059.\n",
      "O percentual de candidatas em 2016 foi de 32.49 %.\n",
      "O número total de candidatas em 2016 foi de 7494.\n",
      "O número de candidatas em 2018 foi de 9221.\n",
      "O número de candidatos em 2018 foi de 19956.\n",
      "O percentual de candidatas em 2018 foi de 31.6 %.\n",
      "O número total de candidatos em 2018 foi de 29177.\n",
      "O número de candidatas em 2020 foi de 3005.\n",
      "O número de candidatos em 2020 foi de 5674.\n",
      "O percentual de candidatas em 2020 foi de 34.62 %.\n",
      "O número total de candidatos em 2020 foi de 8679.\n"
     ]
    }
   ],
   "source": [
    "print(f\"O número de candidatas em 2014 foi de {def_2014}.\")\n",
    "print(f\"O número de candidatos em 2014 foi de {def_2014_2}.\")\n",
    "print(f\"O percentual de candidatas em 2014 foi de {def_2014_participacao} %.\")\n",
    "print(f\"O número total de candidatos em 2014 foi de {def_2014_total}.\")\n",
    "print(f\"O número de candidatas em 2016 foi de {def_2016}.\")\n",
    "print(f\"O número de candidatos em 2016 foi de {def_2016_2}.\")\n",
    "print(f\"O percentual de candidatas em 2016 foi de {def_2016_participacao} %.\")\n",
    "print(f\"O número total de candidatos em 2016 foi de {def_2016_total}.\")\n",
    "print(f\"O número de candidatas em 2018 foi de {def_2018}.\")\n",
    "print(f\"O número de candidatos em 2018 foi de {def_2018_2}.\")\n",
    "print(f\"O percentual de candidatas em 2018 foi de {def_2018_participacao} %.\")\n",
    "print(f\"O número total de candidatos em 2018 foi de {def_2018_total}.\")\n",
    "print(f\"O número de candidatas em 2020 foi de {def_2020}.\")\n",
    "print(f\"O número de candidatos em 2020 foi de {def_2020_2}.\")\n",
    "print(f\"O percentual de candidatas em 2020 foi de {def_2020_participacao} %.\")\n",
    "print(f\"O número total de candidatos em 2020 foi de {def_2020_total}.\")"
   ]
  },
  {
   "cell_type": "code",
   "execution_count": 5,
   "metadata": {},
   "outputs": [
    {
     "data": {
      "image/png": "[encoded data removed]",
      "text/plain": [
       "<Figure size 432x288 with 1 Axes>"
      ]
     },
     "metadata": {
      "needs_background": "light"
     },
     "output_type": "display_data"
    }
   ],
   "source": [
    "x = ['2014', '2016', '2018', '2020']\n",
    "y = [(def_2014_total), (def_2016_total), (def_2018_total), (def_2020_total)]\n",
    "plt.title('Participação candidatas')\n",
    "plt.xlabel('ANO')\n",
    "plt.ylabel('Valores Absolutos')\n",
    "plt.bar(x, y)\n",
    "plt.show()"
   ]
  },
  {
   "cell_type": "code",
   "execution_count": 6,
   "metadata": {},
   "outputs": [
    {
     "data": {
      "image/png": "[encoded data removed]",
      "text/plain": [
       "<Figure size 432x288 with 1 Axes>"
      ]
     },
     "metadata": {
      "needs_background": "light"
     },
     "output_type": "display_data"
    }
   ],
   "source": [
    "x = ['2014', '2016', '2018', '2020']\n",
    "y = [(def_2014_participacao), (def_2016_participacao), (def_2018_participacao), (def_2020_participacao)]\n",
    "\n",
    "plt.title('Percentual participação candidatas')\n",
    "plt.xlabel('ANO')\n",
    "plt.ylabel('Percentual')\n",
    "plt.bar(x, y)\n",
    "plt.show()"
   ]
  }
 ],
 "metadata": {
  "kernelspec": {
   "display_name": "Python 3",
   "language": "python",
   "name": "python3"
  },
  "language_info": {
   "codemirror_mode": {
    "name": "ipython",
    "version": 3
   },
   "file_extension": ".py",
   "mimetype": "text/x-python",
   "name": "python",
   "nbconvert_exporter": "python",
   "pygments_lexer": "ipython3",
   "version": "3.8.2"
  }
 },
 "nbformat": 4,
 "nbformat_minor": 2
}
